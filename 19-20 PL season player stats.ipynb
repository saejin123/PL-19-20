{
 "cells": [
  {
   "cell_type": "code",
   "execution_count": 10,
   "metadata": {},
   "outputs": [
    {
     "name": "stdout",
     "output_type": "stream",
     "text": [
      "+------------------+------+----+----+-------+------+-----+-------+\n",
      "| Player           |  £   | G  | A  | G + A | PP90 |  TP | Value |\n",
      "+------------------+------+----+----+-------+------+-----+-------+\n",
      "| De Bruyne        | 10.6 | 13 | 23 |   36  | 8.1  | 251 | 23.68 |\n",
      "| Vardy            | 9.7  | 23 | 7  |   30  | 6.23 | 210 | 21.65 |\n",
      "| Salah            | 12.5 | 19 | 10 |   29  | 7.28 | 233 | 18.64 |\n",
      "| Mané             | 12.1 | 18 | 10 |   28  | 7.25 | 221 | 18.26 |\n",
      "| Aubameyang       | 10.9 | 22 | 5  |   27  | 5.88 | 205 | 18.81 |\n",
      "| Sterling         | 12.0 | 20 | 6  |   26  | 6.93 | 204 |  17.0 |\n",
      "| Martial          | 8.5  | 17 | 9  |   26  | 6.86 | 200 | 23.53 |\n",
      "| Mahrez           | 8.6  | 11 | 14 |   25  | 8.14 | 175 | 20.35 |\n",
      "| Rashford         | 8.9  | 17 | 8  |   25  | 6.02 | 177 | 19.89 |\n",
      "| Ings             | 7.6  | 22 | 2  |   24  | 6.36 | 198 | 26.05 |\n",
      "| Son              | 9.7  | 11 | 13 |   24  | 6.14 | 169 | 17.42 |\n",
      "| Jiménez          | 8.0  | 17 | 7  |   24  | 5.39 | 194 | 24.25 |\n",
      "| Agüero           | 11.6 | 16 | 6  |   22  | 8.2  | 132 | 11.38 |\n",
      "| Jesus            | 9.9  | 14 | 8  |   22  | 6.51 | 146 | 14.75 |\n",
      "| Abraham          | 7.3  | 15 | 6  |   21  | 6.24 | 153 | 20.96 |\n",
      "| Kane             | 11.0 | 18 | 2  |   20  | 5.49 | 158 | 14.36 |\n",
      "| Alexander-Arnold | 7.7  | 4  | 15 |   19  | 5.96 | 210 | 27.27 |\n",
      "| Willian          | 7.3  | 9  | 9  |   18  | 5.83 | 168 | 23.01 |\n",
      "| Richarlison      | 8.2  | 13 | 5  |   18  | 4.84 | 165 | 20.12 |\n",
      "| Firmino          | 9.3  | 9  | 9  |   18  | 4.67 | 155 | 16.67 |\n",
      "| David Silva      | 7.5  | 6  | 12 |   18  | 6.87 | 139 | 18.53 |\n",
      "| Lacazette        | 9.2  | 10 | 7  |   17  | 5.69 | 118 | 12.83 |\n",
      "| Pulisic          | 7.4  | 9  | 8  |   17  | 6.66 | 127 | 17.16 |\n",
      "| Barnes           | 5.8  | 6  | 10 |   16  | 5.77 | 133 | 22.93 |\n",
      "| Fernandes        | 9.0  | 8  | 8  |   16  | 8.87 | 117 |  13.0 |\n",
      "| Grealish         | 5.9  | 8  | 7  |   15  | 4.15 | 149 | 25.25 |\n",
      "| Wood             | 6.2  | 14 | 1  |   15  | 5.02 | 136 | 21.94 |\n",
      "| Callum Wilson    | 7.4  | 8  | 6  |   14  | 3.59 | 116 | 15.68 |\n",
      "| Calvert-Lewin    | 6.1  | 13 | 1  |   14  | 4.33 | 126 | 20.66 |\n",
      "| Robertson        | 7.0  | 2  | 12 |   14  | 5.24 | 181 | 25.86 |\n",
      "+------------------+------+----+----+-------+------+-----+-------+\n"
     ]
    }
   ],
   "source": [
    "import nest_asyncio\n",
    "import asyncio\n",
    "import aiohttp\n",
    "import pandas as pd\n",
    "from prettytable import PrettyTable\n",
    "from fpl import FPL\n",
    "\n",
    "nest_asyncio.apply()\n",
    "async def main():\n",
    "    async with aiohttp.ClientSession() as session:\n",
    "        fpl = FPL(session)\n",
    "        players = await fpl.get_players()\n",
    "\n",
    "    top_performers = sorted(players, key=lambda x: x.goals_scored + x.assists, reverse=True)\n",
    "\n",
    "    player_table = PrettyTable()\n",
    "    player_table.field_names = [\"Player\", \"£\", \"G\", \"A\", \"G + A\",\"PP90\",\"TP\",\"Value\"]\n",
    "    player_table.align[\"Player\"] = \"l\"\n",
    "\n",
    "    for player in top_performers[:30]:\n",
    "        cost = round(player.now_cost / 10,2)\n",
    "        goals = player.goals_scored\n",
    "        assists = player.assists\n",
    "        tp = player.total_points\n",
    "        pp90 = round(player.pp90,2)\n",
    "        value = round(tp/cost,2)\n",
    "        player_table.add_row([player.web_name, cost,\n",
    "                            goals, assists, goals + assists,pp90,tp,value])\n",
    "    \n",
    "    print(player_table)\n",
    "\n",
    "if __name__ == \"__main__\":\n",
    "    asyncio.run(main())"
   ]
  }
 ],
 "metadata": {
  "kernelspec": {
   "display_name": "Python 3",
   "language": "python",
   "name": "python3"
  },
  "language_info": {
   "codemirror_mode": {
    "name": "ipython",
    "version": 3
   },
   "file_extension": ".py",
   "mimetype": "text/x-python",
   "name": "python",
   "nbconvert_exporter": "python",
   "pygments_lexer": "ipython3",
   "version": "3.7.3"
  }
 },
 "nbformat": 4,
 "nbformat_minor": 2
}
